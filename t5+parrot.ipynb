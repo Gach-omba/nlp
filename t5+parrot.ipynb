{
  "nbformat": 4,
  "nbformat_minor": 0,
  "metadata": {
    "colab": {
      "provenance": [],
      "authorship_tag": "ABX9TyPZpy6VUguh9yq8IzrBBbj5",
      "include_colab_link": true
    },
    "kernelspec": {
      "name": "python3",
      "display_name": "Python 3"
    },
    "language_info": {
      "name": "python"
    }
  },
  "cells": [
    {
      "cell_type": "markdown",
      "metadata": {
        "id": "view-in-github",
        "colab_type": "text"
      },
      "source": [
        "<a href=\"https://colab.research.google.com/github/Gach-omba/nlp/blob/main/t5%2Bparrot.ipynb\" target=\"_parent\"><img src=\"https://colab.research.google.com/assets/colab-badge.svg\" alt=\"Open In Colab\"/></a>"
      ]
    },
    {
      "cell_type": "code",
      "execution_count": 40,
      "metadata": {
        "colab": {
          "base_uri": "https://localhost:8080/"
        },
        "id": "FI6Uopq1OIPE",
        "outputId": "4588ccb3-9fe2-4f34-e2e8-e085419e5efe"
      },
      "outputs": [
        {
          "output_type": "stream",
          "name": "stdout",
          "text": [
            "Looking in indexes: https://pypi.org/simple, https://us-python.pkg.dev/colab-wheels/public/simple/\n",
            "Collecting git+https://github.com/PrithivirajDamodaran/Parrot_Paraphraser.git\n",
            "  Cloning https://github.com/PrithivirajDamodaran/Parrot_Paraphraser.git to /tmp/pip-req-build-etyk8y69\n",
            "  Running command git clone --filter=blob:none --quiet https://github.com/PrithivirajDamodaran/Parrot_Paraphraser.git /tmp/pip-req-build-etyk8y69\n",
            "  Resolved https://github.com/PrithivirajDamodaran/Parrot_Paraphraser.git to commit 720a87a1ee557d8ed8d9a021adbdd1dd5616c5f9\n",
            "  Preparing metadata (setup.py) ... \u001b[?25l\u001b[?25hdone\n",
            "Requirement already satisfied: transformers in /usr/local/lib/python3.10/dist-packages (from parrot==1.0) (4.29.2)\n",
            "Requirement already satisfied: sentencepiece in /usr/local/lib/python3.10/dist-packages (from parrot==1.0) (0.1.99)\n",
            "Requirement already satisfied: python-Levenshtein in /usr/local/lib/python3.10/dist-packages (from parrot==1.0) (0.21.0)\n",
            "Requirement already satisfied: sentence-transformers in /usr/local/lib/python3.10/dist-packages (from parrot==1.0) (2.2.2)\n",
            "Requirement already satisfied: fuzzywuzzy in /usr/local/lib/python3.10/dist-packages (from parrot==1.0) (0.18.0)\n",
            "Requirement already satisfied: Levenshtein==0.21.0 in /usr/local/lib/python3.10/dist-packages (from python-Levenshtein->parrot==1.0) (0.21.0)\n",
            "Requirement already satisfied: rapidfuzz<4.0.0,>=2.3.0 in /usr/local/lib/python3.10/dist-packages (from Levenshtein==0.21.0->python-Levenshtein->parrot==1.0) (3.1.1)\n",
            "Requirement already satisfied: tqdm in /usr/local/lib/python3.10/dist-packages (from sentence-transformers->parrot==1.0) (4.65.0)\n",
            "Requirement already satisfied: torch>=1.6.0 in /usr/local/lib/python3.10/dist-packages (from sentence-transformers->parrot==1.0) (2.0.1+cu118)\n",
            "Requirement already satisfied: torchvision in /usr/local/lib/python3.10/dist-packages (from sentence-transformers->parrot==1.0) (0.15.2+cu118)\n",
            "Requirement already satisfied: numpy in /usr/local/lib/python3.10/dist-packages (from sentence-transformers->parrot==1.0) (1.22.4)\n",
            "Requirement already satisfied: scikit-learn in /usr/local/lib/python3.10/dist-packages (from sentence-transformers->parrot==1.0) (1.2.2)\n",
            "Requirement already satisfied: scipy in /usr/local/lib/python3.10/dist-packages (from sentence-transformers->parrot==1.0) (1.10.1)\n",
            "Requirement already satisfied: nltk in /usr/local/lib/python3.10/dist-packages (from sentence-transformers->parrot==1.0) (3.8.1)\n",
            "Requirement already satisfied: huggingface-hub>=0.4.0 in /usr/local/lib/python3.10/dist-packages (from sentence-transformers->parrot==1.0) (0.15.1)\n",
            "Requirement already satisfied: filelock in /usr/local/lib/python3.10/dist-packages (from transformers->parrot==1.0) (3.12.0)\n",
            "Requirement already satisfied: packaging>=20.0 in /usr/local/lib/python3.10/dist-packages (from transformers->parrot==1.0) (23.1)\n",
            "Requirement already satisfied: pyyaml>=5.1 in /usr/local/lib/python3.10/dist-packages (from transformers->parrot==1.0) (6.0)\n",
            "Requirement already satisfied: regex!=2019.12.17 in /usr/local/lib/python3.10/dist-packages (from transformers->parrot==1.0) (2022.10.31)\n",
            "Requirement already satisfied: requests in /usr/local/lib/python3.10/dist-packages (from transformers->parrot==1.0) (2.27.1)\n",
            "Requirement already satisfied: tokenizers!=0.11.3,<0.14,>=0.11.1 in /usr/local/lib/python3.10/dist-packages (from transformers->parrot==1.0) (0.13.3)\n",
            "Requirement already satisfied: fsspec in /usr/local/lib/python3.10/dist-packages (from huggingface-hub>=0.4.0->sentence-transformers->parrot==1.0) (2023.4.0)\n",
            "Requirement already satisfied: typing-extensions>=3.7.4.3 in /usr/local/lib/python3.10/dist-packages (from huggingface-hub>=0.4.0->sentence-transformers->parrot==1.0) (4.5.0)\n",
            "Requirement already satisfied: sympy in /usr/local/lib/python3.10/dist-packages (from torch>=1.6.0->sentence-transformers->parrot==1.0) (1.11.1)\n",
            "Requirement already satisfied: networkx in /usr/local/lib/python3.10/dist-packages (from torch>=1.6.0->sentence-transformers->parrot==1.0) (3.1)\n",
            "Requirement already satisfied: jinja2 in /usr/local/lib/python3.10/dist-packages (from torch>=1.6.0->sentence-transformers->parrot==1.0) (3.1.2)\n",
            "Requirement already satisfied: triton==2.0.0 in /usr/local/lib/python3.10/dist-packages (from torch>=1.6.0->sentence-transformers->parrot==1.0) (2.0.0)\n",
            "Requirement already satisfied: cmake in /usr/local/lib/python3.10/dist-packages (from triton==2.0.0->torch>=1.6.0->sentence-transformers->parrot==1.0) (3.25.2)\n",
            "Requirement already satisfied: lit in /usr/local/lib/python3.10/dist-packages (from triton==2.0.0->torch>=1.6.0->sentence-transformers->parrot==1.0) (16.0.5)\n",
            "Requirement already satisfied: click in /usr/local/lib/python3.10/dist-packages (from nltk->sentence-transformers->parrot==1.0) (8.1.3)\n",
            "Requirement already satisfied: joblib in /usr/local/lib/python3.10/dist-packages (from nltk->sentence-transformers->parrot==1.0) (1.2.0)\n",
            "Requirement already satisfied: urllib3<1.27,>=1.21.1 in /usr/local/lib/python3.10/dist-packages (from requests->transformers->parrot==1.0) (1.26.15)\n",
            "Requirement already satisfied: certifi>=2017.4.17 in /usr/local/lib/python3.10/dist-packages (from requests->transformers->parrot==1.0) (2022.12.7)\n",
            "Requirement already satisfied: charset-normalizer~=2.0.0 in /usr/local/lib/python3.10/dist-packages (from requests->transformers->parrot==1.0) (2.0.12)\n",
            "Requirement already satisfied: idna<4,>=2.5 in /usr/local/lib/python3.10/dist-packages (from requests->transformers->parrot==1.0) (3.4)\n",
            "Requirement already satisfied: threadpoolctl>=2.0.0 in /usr/local/lib/python3.10/dist-packages (from scikit-learn->sentence-transformers->parrot==1.0) (3.1.0)\n",
            "Requirement already satisfied: pillow!=8.3.*,>=5.3.0 in /usr/local/lib/python3.10/dist-packages (from torchvision->sentence-transformers->parrot==1.0) (8.4.0)\n",
            "Requirement already satisfied: MarkupSafe>=2.0 in /usr/local/lib/python3.10/dist-packages (from jinja2->torch>=1.6.0->sentence-transformers->parrot==1.0) (2.1.2)\n",
            "Requirement already satisfied: mpmath>=0.19 in /usr/local/lib/python3.10/dist-packages (from sympy->torch>=1.6.0->sentence-transformers->parrot==1.0) (1.3.0)\n"
          ]
        }
      ],
      "source": [
        "!pip install git+https://github.com/PrithivirajDamodaran/Parrot_Paraphraser.git"
      ]
    },
    {
      "cell_type": "code",
      "source": [
        "pip install transformers"
      ],
      "metadata": {
        "colab": {
          "base_uri": "https://localhost:8080/"
        },
        "id": "KALSP_xCV6kg",
        "outputId": "8d35dfbf-a438-44ca-c34c-3c8e4bec0d04"
      },
      "execution_count": 41,
      "outputs": [
        {
          "output_type": "stream",
          "name": "stdout",
          "text": [
            "Looking in indexes: https://pypi.org/simple, https://us-python.pkg.dev/colab-wheels/public/simple/\n",
            "Requirement already satisfied: transformers in /usr/local/lib/python3.10/dist-packages (4.29.2)\n",
            "Requirement already satisfied: filelock in /usr/local/lib/python3.10/dist-packages (from transformers) (3.12.0)\n",
            "Requirement already satisfied: huggingface-hub<1.0,>=0.14.1 in /usr/local/lib/python3.10/dist-packages (from transformers) (0.15.1)\n",
            "Requirement already satisfied: numpy>=1.17 in /usr/local/lib/python3.10/dist-packages (from transformers) (1.22.4)\n",
            "Requirement already satisfied: packaging>=20.0 in /usr/local/lib/python3.10/dist-packages (from transformers) (23.1)\n",
            "Requirement already satisfied: pyyaml>=5.1 in /usr/local/lib/python3.10/dist-packages (from transformers) (6.0)\n",
            "Requirement already satisfied: regex!=2019.12.17 in /usr/local/lib/python3.10/dist-packages (from transformers) (2022.10.31)\n",
            "Requirement already satisfied: requests in /usr/local/lib/python3.10/dist-packages (from transformers) (2.27.1)\n",
            "Requirement already satisfied: tokenizers!=0.11.3,<0.14,>=0.11.1 in /usr/local/lib/python3.10/dist-packages (from transformers) (0.13.3)\n",
            "Requirement already satisfied: tqdm>=4.27 in /usr/local/lib/python3.10/dist-packages (from transformers) (4.65.0)\n",
            "Requirement already satisfied: fsspec in /usr/local/lib/python3.10/dist-packages (from huggingface-hub<1.0,>=0.14.1->transformers) (2023.4.0)\n",
            "Requirement already satisfied: typing-extensions>=3.7.4.3 in /usr/local/lib/python3.10/dist-packages (from huggingface-hub<1.0,>=0.14.1->transformers) (4.5.0)\n",
            "Requirement already satisfied: urllib3<1.27,>=1.21.1 in /usr/local/lib/python3.10/dist-packages (from requests->transformers) (1.26.15)\n",
            "Requirement already satisfied: certifi>=2017.4.17 in /usr/local/lib/python3.10/dist-packages (from requests->transformers) (2022.12.7)\n",
            "Requirement already satisfied: charset-normalizer~=2.0.0 in /usr/local/lib/python3.10/dist-packages (from requests->transformers) (2.0.12)\n",
            "Requirement already satisfied: idna<4,>=2.5 in /usr/local/lib/python3.10/dist-packages (from requests->transformers) (3.4)\n"
          ]
        }
      ]
    },
    {
      "cell_type": "code",
      "source": [
        "import torch\n",
        "from transformers import AutoTokenizer , AutoModelWithLMHead"
      ],
      "metadata": {
        "id": "9bFHtPNcXZw1"
      },
      "execution_count": 42,
      "outputs": []
    },
    {
      "cell_type": "code",
      "source": [
        "tokenizer=AutoTokenizer.from_pretrained('t5-base')\n",
        "model=AutoModelWithLMHead.from_pretrained('t5-base')"
      ],
      "metadata": {
        "id": "YWHvm0Tjb-8R"
      },
      "execution_count": 43,
      "outputs": []
    },
    {
      "cell_type": "code",
      "source": [
        "from parrot import Parrot\n",
        "import torch\n",
        "import warnings\n",
        "warnings.filterwarnings(\"ignore\")\n",
        "\n",
        "\n",
        "def random_state(seed):\n",
        "  torch.manual_seed(seed)\n",
        "  if torch.cuda.is_available():\n",
        "    torch.cuda.manual_seed_all(seed)\n",
        "\n",
        "random_state(1234)\n",
        "\n",
        "\n",
        "#Init models (make sure you init ONLY once if you integrate this to your code)\n",
        "parrot = Parrot(model_tag=\"prithivida/parrot_paraphraser_on_T5\")"
      ],
      "metadata": {
        "id": "BEeyhdFAOizB"
      },
      "execution_count": 44,
      "outputs": []
    },
    {
      "cell_type": "code",
      "source": [
        "def break_sentences(string):\n",
        "    # Define common sentence delimiters\n",
        "    delimiters = ['. ', '? ', '! ']\n",
        "\n",
        "    # Remove leading and trailing whitespaces\n",
        "    string = string.strip()\n",
        "\n",
        "    # Break down the string into individual sentences\n",
        "    sentences = []\n",
        "    current_sentence = ''\n",
        "    for char in string:\n",
        "        current_sentence += char\n",
        "        if any(current_sentence.endswith(delimiter) for delimiter in delimiters):\n",
        "            sentences.append(current_sentence.strip())\n",
        "            current_sentence = ''\n",
        "\n",
        "    # Add the remaining sentence if any\n",
        "    if current_sentence:\n",
        "        sentences.append(current_sentence.strip())\n",
        "\n",
        "    return sentences\n"
      ],
      "metadata": {
        "id": "GGEU-BN8H_OK"
      },
      "execution_count": 45,
      "outputs": []
    },
    {
      "cell_type": "code",
      "source": [
        "phrases=break_sentences(\"\"\"Once upon a time, in a small village nestled deep within a lush forest, there lived a young girl named Lily. She had a heart full of curiosity and a spirit that yearned for adventure. Despite the simplicity of her village life, Lily craved something more.\n",
        "\n",
        "One bright morning, while the village was still asleep, Lily made a decision that would change her life forever. She packed a small bag with provisions and set off on a journey into the unknown. With each step, she felt the thrill of the unknown tingling in her veins.\n",
        "\n",
        "As she ventured deeper into the forest, the trees whispered secrets in hushed tones. The birds above sang songs of encouragement, urging her forward. Guided by an invisible force, Lily found herself stumbling upon a hidden pathway that led to a forgotten world.\n",
        "\n",
        "The hidden world was breathtakingly beautiful, filled with vibrant colors and magical creatures. It was a place where dreams came to life and impossibilities became possibilities. With wide-eyed wonder, Lily explored the enchanted forest, encountering talking animals and friendly forest sprites along the way.\n",
        "\n",
        "One day, as she wandered deeper into the forest, Lily stumbled upon an ancient and mysterious book. Its pages were filled with cryptic symbols and unknown languages. Intrigued, Lily decided to take the book with her, hoping to unravel its secrets.\n",
        "\n",
        "As days turned into weeks, Lily poured over the book, deciphering its enigmatic contents. With each revelation, her understanding of magic grew. She discovered spells to heal the wounded, charms to bring joy to the sorrowful, and incantations to protect the innocent.\n",
        "\n",
        "Word of Lily's newfound powers spread throughout the hidden world, reaching the ears of the forest's most feared inhabitant, the wicked sorceress Morgana. Consumed by jealousy and a desire for absolute power, Morgana set out to capture Lily and steal her magical abilities.\n",
        "\n",
        "Lily soon found herself in a battle against darkness, facing Morgana's malevolent forces. With the help of her newfound friends, the talking animals and forest sprites, Lily stood her ground. She summoned her courage and tapped into the vast well of magic within her, casting powerful spells that illuminated the forest with hope.\n",
        "\n",
        "In an epic showdown, Lily confronted Morgana, their powers clashing like thunder in the night. It was a battle of light against darkness, good against evil. In the end, Lily's pure heart and unwavering belief in the power of love triumphed over Morgana's darkness.\n",
        "\n",
        "With Morgana defeated, the hidden world rejoiced, celebrating Lily as their savior. Lily, forever changed by her extraordinary journey, became a guardian of the enchanted forest, using her magic to bring harmony and peace to all who resided there.\n",
        "\n",
        "And so, the tale of Lily, the brave young girl who discovered her own magic, echoed through the generations, inspiring others to embrace their inner power and seek adventure in the world around them.\"\"\")\n",
        "results = []  # Initialize an empty list to store the results\n",
        "\n",
        "for phrase in phrases:\n",
        "    print(\"-\" * 100)\n",
        "    print(\"Input_phrase: \", phrase)\n",
        "    print(\"-\" * 100)\n",
        "    try:\n",
        "        para_phrases = parrot.augment(input_phrase=phrase,\n",
        "                                      use_gpu=False,\n",
        "                                      do_diverse=True,\n",
        "                                      adequacy_threshold=0.80,\n",
        "                                      fluency_threshold=0.80)\n",
        "        for para_phrase in para_phrases:\n",
        "            modified_phrase = para_phrase[0]  # Get the first phrase (extracted from tuple)\n",
        "            \n",
        "            # Add a period at the end of each sentence\n",
        "            modified_phrase = modified_phrase.rstrip()  # Remove trailing whitespaces\n",
        "            if modified_phrase and not modified_phrase.endswith('.'):\n",
        "                modified_phrase += '.'\n",
        "            \n",
        "            # Capitalize the starting letter of every sentence\n",
        "            modified_phrase = '. '.join(sentence.capitalize() for sentence in modified_phrase.split('. '))\n",
        "            \n",
        "            results.append(modified_phrase)  # Append the modified phrase to the results list\n",
        "            break  # Break the loop after processing the first phrase\n",
        "    except:\n",
        "        print(\"No paraphrases returned\")\n",
        "\n",
        "combined_string = ' '.join(results)  # Combine the phrases into a single string with spaces between them\n",
        "\n",
        "print(combined_string)  # Print the modified combined string\n",
        "\n",
        "\n"
      ],
      "metadata": {
        "id": "UAnreHxLO-ug"
      },
      "execution_count": null,
      "outputs": []
    },
    {
      "cell_type": "code",
      "source": [
        "print(combined_string)"
      ],
      "metadata": {
        "colab": {
          "base_uri": "https://localhost:8080/"
        },
        "id": "zP78X1KBPcYG",
        "outputId": "e7c0bfe2-8476-4e5e-f97b-c8e190b13efc"
      },
      "execution_count": 53,
      "outputs": [
        {
          "output_type": "stream",
          "name": "stdout",
          "text": [
            "In a small village deep in a lush forest once lived a young girl named lily. In her heart she had curiosity and a desire for adventure. On a bright morning while the village was still asleep lily made a decision that would change her life forever despite the simplicity of her village life. She packed a small bag with provisions and set off for the unknown. As she ventured deeper into the woods the trees whispered secrets in hushed tones. The birds above sang songs of encouragement urging her to move on. With an invisible force lily found herself searching for a hidden path which led to a forgotten world the hidden world was breathtakingly beautiful filled with vibrant colors and magical creatures. Is it a place where dreams come to life and where impossibility becomes possibility?. When lily explored the enchanted forest with wide-eyed wonder she encountered talking animals and friendly forest sprites along the way one day as she wandered deeper into the forest lily stumbled upon an ancient and mysterious. The pages were filled with cryptic symbols and unknown languages. Intrigued, lily decided to take the book with her, hoping to unravel its secrets.\n",
            "\n",
            "as days turned into weeks, lily poured over the book, deciphering its enigmatic contents. Her understanding of magic grew with each revelation. She discovered spells to heal the wounded, charms to bring joy to the sorrowful, and incantations to protect the innocent.\n",
            "\n",
            "word of lily's newfound powers spread throughout the hidden world, reaching the ears of the forest's most feared inhabitant, the wicked sorceress morgana. Consumed by jealousy and a desire for absolute power morgana set out to capture lily and steal her magical abilitieslily soon found herself in a battle against darkness against morgana's malevolent forces. Lily stood her ground with the help of her newfound friends the talking animals and the forest sprites. She summoned her courage and tapped into the vast well of magic within her, casting powerful spells that illuminated the forest with hope.\n",
            "\n",
            "in an epic showdown, lily confronted morgana, their powers clashing like thunder in the night. It was a battle between light and darkness good and evil. In the end, lily's pure heart and unwavering belief in the power of love triumphed over morgana's darkness.\n",
            "\n",
            "with morgana defeated, the hidden world rejoiced, celebrating lily as their savior. Lily, forever changed by her extraordinary journey, became a guardian of the enchanted forest, using her magic to bring harmony and peace to all who resided there.\n",
            "\n",
            "and so, the tale of lily, the brave young girl who discovered her own magic, echoed through the generations, inspiring others to embrace their inner power and seek adventure in the world around them.\n"
          ]
        }
      ]
    },
    {
      "cell_type": "code",
      "source": [
        "chunk_size = 400\n",
        "chunks = [combined_string[i:i+chunk_size] for i in range(0, len(combined_string), chunk_size)]"
      ],
      "metadata": {
        "id": "Sc78NxzcNi-f"
      },
      "execution_count": 51,
      "outputs": []
    },
    {
      "cell_type": "code",
      "source": [
        "summaries = []\n",
        "for chunk in chunks:\n",
        "    inputs = tokenizer.encode(\"summarize: \" + chunk, return_tensors='pt', max_length=512, truncation=True)\n",
        "    outputs = model.generate(inputs, max_length=150, min_length=40, length_penalty=2.0, num_beams=4, early_stopping=True)\n",
        "    summary = tokenizer.decode(outputs[0])\n",
        "    summaries.append(summary)\n",
        "\n",
        "# Concatenate the summaries\n",
        "full_summary = ' '.join(summaries)\n",
        "print(full_summary)\n"
      ],
      "metadata": {
        "colab": {
          "base_uri": "https://localhost:8080/"
        },
        "id": "JNbPfchgN377",
        "outputId": "bb1ab71c-b03e-4efa-be26-604a2d207a67"
      },
      "execution_count": 52,
      "outputs": [
        {
          "output_type": "stream",
          "name": "stdout",
          "text": [
            "<pad> a village girl named lily made a decision that would change her life forever despite the simplicity of her village life. she packed a small bag with provisions and set off for the unknown. as she ventured deeper into the woods lily's curiosity and a desire for adventure changed her life forever.</s> <pad> lily found herself searching for a hidden path which led to a forgotten world. with an invisible force lily found herself searching for a hidden path. the hidden world was breathtakingly beautiful filled with vibrant colors and magical creatures.</s> <pad> ly explored the enchanted forest with wide-eyed wonder. one day as she wandered deeper into the forest lily stumbled upon an ancient and mysterious book. the pages were filled with cryptic symbols and unknown languages. lily decided to take the book with her, hoping to unravel its secrets.</s> <pad> ly discovered spells to heal the wounded, charms to bring joy to the sorrowful. word of ly's newfound powers spread throughout the hidden world. word of ly's newfound powers spread throughout the forest.</s> <pad> morgana set out to capture lily and steal her magical abilitieslily soon found herself in a battle against darkness against morgana's malevolent forces. lily summoned her courage and tapped into the vast well of magic within her.</s> <pad> lily confronted morgana, their powers clashing like thunder in the night. lily's pure heart and unwavering belief in the power of love triumphed over morgana's darkness. with morgana defeated, the hidden world rejoiced.</s> <pad> the tale of lily, the brave young girl who discovered her magic, echoed through the generations. lily became a guardian of the enchanted forest, using her magic to bring harmony and peace to all who resided there.</s>\n"
          ]
        }
      ]
    },
    {
      "cell_type": "code",
      "source": [],
      "metadata": {
        "id": "wJo8TUTV_WLw"
      },
      "execution_count": null,
      "outputs": []
    }
  ]
}