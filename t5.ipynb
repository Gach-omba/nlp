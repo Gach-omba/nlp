{
  "nbformat": 4,
  "nbformat_minor": 0,
  "metadata": {
    "colab": {
      "provenance": [],
      "authorship_tag": "ABX9TyMEncfM9Z2Cu6aXwxVeCLf9",
      "include_colab_link": true
    },
    "kernelspec": {
      "name": "python3",
      "display_name": "Python 3"
    },
    "language_info": {
      "name": "python"
    }
  },
  "cells": [
    {
      "cell_type": "markdown",
      "metadata": {
        "id": "view-in-github",
        "colab_type": "text"
      },
      "source": [
        "<a href=\"https://colab.research.google.com/github/Gach-omba/nlp/blob/main/t5.ipynb\" target=\"_parent\"><img src=\"https://colab.research.google.com/assets/colab-badge.svg\" alt=\"Open In Colab\"/></a>"
      ]
    },
    {
      "cell_type": "code",
      "source": [
        "pip install transformers\n"
      ],
      "metadata": {
        "id": "PmJjfO1c6r7g"
      },
      "execution_count": null,
      "outputs": []
    },
    {
      "cell_type": "code",
      "execution_count": 5,
      "metadata": {
        "id": "JdqIyypt4SEd"
      },
      "outputs": [],
      "source": [
        "import torch\n",
        "from transformers import AutoTokenizer , AutoModelWithLMHead"
      ]
    },
    {
      "cell_type": "code",
      "source": [
        "tokenizer=AutoTokenizer.from_pretrained('t5-base')\n",
        "model=AutoModelWithLMHead.from_pretrained('t5-base')"
      ],
      "metadata": {
        "id": "7aqPSwwJ6Bg7"
      },
      "execution_count": null,
      "outputs": []
    },
    {
      "cell_type": "code",
      "source": [
        "def escape_single_quote(string):\n",
        "    return string.replace(\"'\", \"\\\\'\")\n"
      ],
      "metadata": {
        "id": "YEKXI60V8fXK"
      },
      "execution_count": 9,
      "outputs": []
    },
    {
      "cell_type": "code",
      "source": [
        "escaped_content=escape_single_quote(\"Once upon a time, in a small village nestled deep within a lush forest, there lived a young girl named Lily. She had a heart full of curiosity and a spirit that yearned for adventure. Despite the simplicity of her village life, Lily craved something more. One bright morning, while the village was still asleep, Lily made a decision that would change her life forever. She packed a small bag with provisions and set off on a journey into the unknown. With each step, she felt the thrill of the unknown tingling in her veins.As she ventured deeper into the forest, the trees whispered secrets in hushed tones. The birds above sang songs of encouragement, urging her forward. Guided by an invisible force, Lily found herself stumbling upon a hidden pathway that led to a forgotten world.The hidden world was breathtakingly beautiful, filled with vibrant colors and magical creatures. It was a place where dreams came to life and impossibilities became possibilities. With wide-eyed wonder, Lily explored the enchanted forest, encountering talking animals and friendly forest sprites along the way.One day, as she wandered deeper into the forest, Lily stumbled upon an ancient and mysterious book. Its pages were filled with cryptic symbols and unknown languages. Intrigued, Lily decided to take the book with her, hoping to unravel its secrets. As days turned into weeks, Lily poured over the book, deciphering its enigmatic contents. With each revelation, her understanding of magic grew. She discovered spells to heal the wounded, charms to bring joy to the sorrowful, and incantations to protect the innocent.Word of Lily's newfound powers spread throughout the hidden world, reaching the ears of the forest's most feared inhabitant, the wicked sorceress Morgana. Consumed by jealousy and a desire for absolute power, Morgana set out to capture Lily and steal her magical abilities.Lily soon found herself in a battle against darkness, facing Morgana's malevolent forces. With the help of her newfound friends, the talking animals and forest sprites, Lily stood her ground. She summoned her courage and tapped into the vast well of magic within her, casting powerful spells that illuminated the forest with hope.In an epic showdown, Lily confronted Morgana, their powers clashing like thunder in the night. It was a battle of light against darkness, good against evil. In the end, Lily's pure heart and unwavering belief in the power of love triumphed over Morgana's darkness. With Morgana defeated, the hidden world rejoiced, celebrating Lily as their savior. Lily, forever changed by her extraordinary journey, became a guardian of the enchanted forest, using her magic to bring harmony and peace to all who resided there.And so, the tale of Lily, the brave young girl who discovered her own magic, echoed through the generations, inspiring others to embrace their inner power and seek adventure in the world around them.\")\n"
      ],
      "metadata": {
        "id": "X_QBiJwZ9GSm"
      },
      "execution_count": 21,
      "outputs": []
    },
    {
      "cell_type": "code",
      "source": [
        "escaped_content=\"\"\"Once upon a time, in a small village nestled deep within a lush forest, there lived a young girl named Lily. She had a heart full of curiosity and a spirit that yearned for adventure. Despite the simplicity of her village life, Lily craved something more.\n",
        "\n",
        "One bright morning, while the village was still asleep, Lily made a decision that would change her life forever. She packed a small bag with provisions and set off on a journey into the unknown. With each step, she felt the thrill of the unknown tingling in her veins.\n",
        "\n",
        "As she ventured deeper into the forest, the trees whispered secrets in hushed tones. The birds above sang songs of encouragement, urging her forward. Guided by an invisible force, Lily found herself stumbling upon a hidden pathway that led to a forgotten world.\n",
        "\n",
        "The hidden world was breathtakingly beautiful, filled with vibrant colors and magical creatures. It was a place where dreams came to life and impossibilities became possibilities. With wide-eyed wonder, Lily explored the enchanted forest, encountering talking animals and friendly forest sprites along the way.\n",
        "\n",
        "One day, as she wandered deeper into the forest, Lily stumbled upon an ancient and mysterious book. Its pages were filled with cryptic symbols and unknown languages. Intrigued, Lily decided to take the book with her, hoping to unravel its secrets.\n",
        "\n",
        "As days turned into weeks, Lily poured over the book, deciphering its enigmatic contents. With each revelation, her understanding of magic grew. She discovered spells to heal the wounded, charms to bring joy to the sorrowful, and incantations to protect the innocent.\n",
        "\n",
        "Word of Lily's newfound powers spread throughout the hidden world, reaching the ears of the forest's most feared inhabitant, the wicked sorceress Morgana. Consumed by jealousy and a desire for absolute power, Morgana set out to capture Lily and steal her magical abilities.\n",
        "\n",
        "Lily soon found herself in a battle against darkness, facing Morgana's malevolent forces. With the help of her newfound friends, the talking animals and forest sprites, Lily stood her ground. She summoned her courage and tapped into the vast well of magic within her, casting powerful spells that illuminated the forest with hope.\n",
        "\n",
        "In an epic showdown, Lily confronted Morgana, their powers clashing like thunder in the night. It was a battle of light against darkness, good against evil. In the end, Lily's pure heart and unwavering belief in the power of love triumphed over Morgana's darkness.\n",
        "\n",
        "With Morgana defeated, the hidden world rejoiced, celebrating Lily as their savior. Lily, forever changed by her extraordinary journey, became a guardian of the enchanted forest, using her magic to bring harmony and peace to all who resided there.\n",
        "\n",
        "And so, the tale of Lily, the brave young girl who discovered her own magic, echoed through the generations, inspiring others to embrace their inner power and seek adventure in the world around them.\"\"\""
      ],
      "metadata": {
        "id": "FtMdhY7PFzka"
      },
      "execution_count": 29,
      "outputs": []
    },
    {
      "cell_type": "code",
      "source": [
        "inputs=tokenizer.encode(\"summarize : \" + escaped_content, return_tensors='pt', max_length=512,truncation=True)"
      ],
      "metadata": {
        "id": "oFhvpc9V-X7h"
      },
      "execution_count": 30,
      "outputs": []
    },
    {
      "cell_type": "code",
      "source": [
        "inputs"
      ],
      "metadata": {
        "id": "jKMq-7SMAJyc"
      },
      "execution_count": null,
      "outputs": []
    },
    {
      "cell_type": "code",
      "source": [
        "outputs =model.generate(inputs,max_length=350,min_length=40,length_penalty=5.,num_beams=2)"
      ],
      "metadata": {
        "id": "lOOupWy1A0kQ"
      },
      "execution_count": 34,
      "outputs": []
    },
    {
      "cell_type": "code",
      "source": [
        "summary=tokenizer.decode(outputs[0])"
      ],
      "metadata": {
        "id": "15yEci-SB4UH"
      },
      "execution_count": 36,
      "outputs": []
    },
    {
      "cell_type": "code",
      "source": [
        "print(summary)"
      ],
      "metadata": {
        "colab": {
          "base_uri": "https://localhost:8080/"
        },
        "id": "3uQ5_Uv-CA2K",
        "outputId": "bc3592d7-4298-4d77-a645-7f135c8a31f6"
      },
      "execution_count": 37,
      "outputs": [
        {
          "output_type": "stream",
          "name": "stdout",
          "text": [
            "<pad> a young girl named Lily stumbled upon an ancient and mysterious book. the book's pages were filled with cryptic symbols and unknown languages. word of her newfound powers spread throughout the hidden world. with the help of her newfound friends, the talking animals and forest sprites, she stood her ground.</s>\n"
          ]
        }
      ]
    }
  ]
}